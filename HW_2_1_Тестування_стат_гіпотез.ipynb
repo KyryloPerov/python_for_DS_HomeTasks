{
  "nbformat": 4,
  "nbformat_minor": 0,
  "metadata": {
    "colab": {
      "provenance": []
    },
    "kernelspec": {
      "name": "python3",
      "display_name": "Python 3"
    },
    "language_info": {
      "name": "python"
    }
  },
  "cells": [
    {
      "cell_type": "markdown",
      "source": [
        "В цьому ДЗ потренуємось виконувати Z-тести для тестування гіпотез в різних задачах. Для коректної імплементації та інтерпретації тестів рекоемндую переглянути спершу документацію:\n",
        "\n",
        "https://www.statsmodels.org/dev/generated/statsmodels.stats.weightstats.ztest.html\n",
        "\n",
        "### Завдання 1: Z-тест для однієї вибірки\n",
        "\n",
        "**Мета**: Перевірити, чи середнє значення вибірки відрізняється від гіпотетичного середнього.\n",
        "\n",
        "**Припущення**: Середній ріст студентів університету вважається 170 см. Ми хочемо перевірити, чи середній ріст випадкової вибірки студентів істотно більший. Вибірка задана в змінній `heights`.\n",
        "\n",
        "Для виконання завдання імпортуйте метод для проведення `ztest`, виконайте Z-тест з Python, виведіть p-value і зробіть заключення, чи справдилось припущення про середній зріст студентів на рівні значущості 0.05?\n",
        "\n",
        "Використовуємо тут Z-тест, оскільки вибірка достатньо велика (більше 30 екземплярів) і можемо вважати, що її стандартне відхилення близьке до ст. відхилення генеральної сукупності, а значить - відоме."
      ],
      "metadata": {
        "id": "ID3uSQHkQJ2J"
      }
    },
    {
      "cell_type": "code",
      "source": [
        "import numpy as np\n",
        "from statsmodels.stats.weightstats import ztest"
      ],
      "metadata": {
        "id": "H-0MOb0dd_vd"
      },
      "execution_count": 1,
      "outputs": []
    },
    {
      "cell_type": "code",
      "source": [
        "heights = [174, 171, 175, 179, 170, 170, 179, 175, 169, 174, 169, 169, 173, 162, 163, 169, 166,\n",
        "           173, 167, 164, 179, 170, 172, 164, 169, 175, 169, 174, 169, 169, 173, 162, 177]"
      ],
      "metadata": {
        "id": "TUYNSCDzRE7N"
      },
      "execution_count": 2,
      "outputs": []
    },
    {
      "cell_type": "code",
      "source": [
        "print(f'Середнє вибірки: {np.mean(heights):.2f}')\n",
        "print(f'Стандартне відхилення вибірки: {np.std(heights):.2f}')"
      ],
      "metadata": {
        "colab": {
          "base_uri": "https://localhost:8080/"
        },
        "id": "Bs0sroDkifxZ",
        "outputId": "85d81609-ca25-4082-93fb-b06e9c1046c5"
      },
      "execution_count": 7,
      "outputs": [
        {
          "output_type": "stream",
          "name": "stdout",
          "text": [
            "Середнє вибірки: 170.70\n",
            "Стандартне відхилення вибірки: 4.65\n"
          ]
        }
      ]
    },
    {
      "cell_type": "code",
      "source": [
        "alpha = 0.05\n",
        "null_mean = 170\n",
        "\n",
        "ztest_Score, p_value = ztest(heights, value = null_mean, alternative='larger')"
      ],
      "metadata": {
        "id": "uTJEZPARYMd4"
      },
      "execution_count": 16,
      "outputs": []
    },
    {
      "cell_type": "code",
      "source": [
        "ztest_Score, p_value"
      ],
      "metadata": {
        "colab": {
          "base_uri": "https://localhost:8080/"
        },
        "id": "NorDteGFhmdk",
        "outputId": "ca1dad9a-a52e-4776-f866-32992d39e661"
      },
      "execution_count": 17,
      "outputs": [
        {
          "output_type": "execute_result",
          "data": {
            "text/plain": [
              "(np.float64(0.8482235371587619), np.float64(0.19815674571091746))"
            ]
          },
          "metadata": {},
          "execution_count": 17
        }
      ]
    },
    {
      "cell_type": "code",
      "source": [
        "if(p_value <  alpha):\n",
        "    print(\"Відхилити Н0.\")\n",
        "else:\n",
        "    print(\"Н0 не може бути відхилена.\")"
      ],
      "metadata": {
        "colab": {
          "base_uri": "https://localhost:8080/"
        },
        "id": "Z8EoVrXJi7WX",
        "outputId": "9ada4248-a573-42e7-c2c8-8c0d6e3b6606"
      },
      "execution_count": 18,
      "outputs": [
        {
          "output_type": "stream",
          "name": "stdout",
          "text": [
            "Н0 не може бути відхилена.\n"
          ]
        }
      ]
    },
    {
      "cell_type": "markdown",
      "source": [
        "**Висновок:**\n",
        "Нульова гіпотеза не може бути відхилена, т.я. середнє значення вибірки не відрізняється від серенього загальної сукупності на рівні значущості 0.05"
      ],
      "metadata": {
        "id": "cRluJFldjj7u"
      }
    },
    {
      "cell_type": "markdown",
      "source": [
        "### Завдання 2: Z-тест для двох незалежних вибірок\n",
        "\n",
        "**Завдання 2.1.**\n",
        "\n",
        "**Мета**: Перевірити, чи існує статистична різниця між середніми оцінками двох груп студентів.\n",
        "\n",
        "**Припущення**: Група A отримала новий навчальний курс, а група B продовжувала зі стандартним курсом. Ми перевіряємо, чи є новий курс ефективнішим.\n",
        "\n",
        "Виконайте Z-тест з Python, виведіть p-value і зробіть заключення, чи справдилось припущення щодо студентів на рівні значущості 0.05?"
      ],
      "metadata": {
        "id": "ga4iKM9kQa9Q"
      }
    },
    {
      "cell_type": "code",
      "source": [
        "group_a_scores = [78.55, 72.25, 79.88, 75.  , 76.54, 74.99, 87.26, 77.93, 72.71,\n",
        "       82.11, 71.9 , 79.04, 68.2 , 71.36, 78.98, 81.69, 78.86, 77.42,\n",
        "       76.49, 70.61, 74.4 , 75.7 , 83.29, 79.72, 69.18, 79.62, 76.07,\n",
        "       74.62, 81.06, 83.15, 82.66, 73.8 , 76.45, 79.66, 82.88, 75.6 ,\n",
        "       77.07, 72.47, 72.02, 82.06]\n",
        "\n",
        "group_b_scores = [81.78, 74.64, 80.02, 76.81, 71.77, 76.81, 82.69, 74.82, 82.82,\n",
        "       61.9 , 79.11, 75.44, 73.5 , 75.46, 65.06, 73.9 , 76.79, 82.39,\n",
        "       72.41, 70.96, 72.49, 79.58, 76.64, 72.35, 77.57, 75.49, 79.84,\n",
        "       71.49, 73.36, 73.04, 67.68, 76.48, 76.31, 75.03, 73.83, 67.92,\n",
        "       72.9 , 73.29, 70.99, 74.19]"
      ],
      "metadata": {
        "id": "SngJjNBJTgBp"
      },
      "execution_count": 10,
      "outputs": []
    },
    {
      "cell_type": "code",
      "source": [
        "np.mean(group_a_scores), np.mean(group_b_scores)"
      ],
      "metadata": {
        "colab": {
          "base_uri": "https://localhost:8080/"
        },
        "id": "u3RK2FUXkqdt",
        "outputId": "c69c22de-5d3b-47b2-86a3-51763ada805c"
      },
      "execution_count": 11,
      "outputs": [
        {
          "output_type": "execute_result",
          "data": {
            "text/plain": [
              "(np.float64(77.08125), np.float64(74.73875000000001))"
            ]
          },
          "metadata": {},
          "execution_count": 11
        }
      ]
    },
    {
      "cell_type": "code",
      "source": [
        "ztest(group_a_scores, group_b_scores, alternative='larger')"
      ],
      "metadata": {
        "id": "CvftCAEHYPKL",
        "colab": {
          "base_uri": "https://localhost:8080/"
        },
        "outputId": "966b75ea-807c-4e86-b256-7eb2cfedb736"
      },
      "execution_count": 21,
      "outputs": [
        {
          "output_type": "execute_result",
          "data": {
            "text/plain": [
              "(np.float64(2.357354864751502), np.float64(0.009202824276264005))"
            ]
          },
          "metadata": {},
          "execution_count": 21
        }
      ]
    },
    {
      "cell_type": "markdown",
      "source": [
        "**Висновок:**\n",
        "Оскільки p-value < 0.05 можна відкинути нульову гіпотезу, що свідчить про статистично значущі покращення результатів по новій програмі. Тобто новий курс є ефективнішим"
      ],
      "metadata": {
        "id": "UcQ1Nr2zl6oU"
      }
    },
    {
      "cell_type": "markdown",
      "source": [
        "**Завдання 2.2.**\n",
        "\n",
        "\n",
        "**Мета**: Побачити, як впливає розмір вибірок на результат тесту.\n",
        "\n",
        "**Завдання**: Уявіть, що з групи А ми маємо тільки перші 5 записів, а з групи В - усі. Таке могло статись, якщо ми вже маємо результати тестів учнів за попередньою програмою, а тести за новою програмою здали наразі лише 5 учнів і ми вирішили не чекати довше.\n",
        "Виберіть перші 5 записів для групи А і проведіть t-test (для цього використовуємо наступний [метод](https://docs.scipy.org/doc/scipy/reference/generated/scipy.stats.ttest_ind.html)). Виведіть значення p-value. Зробіть висновок, який результат ви бачите щодо стат. значущості на рівні 0.05 для цього експерименту?\n",
        "\n",
        "Тут проводимо t-test оскільки одна з вибірок - дуже мала."
      ],
      "metadata": {
        "id": "zOxz2tU0VpJM"
      }
    },
    {
      "cell_type": "code",
      "source": [
        "from scipy import stats"
      ],
      "metadata": {
        "id": "D9znE6liYQmP"
      },
      "execution_count": 24,
      "outputs": []
    },
    {
      "cell_type": "code",
      "source": [
        "group_a_short_scores = group_a_scores[:5]"
      ],
      "metadata": {
        "id": "Bh7XrixNtSlO"
      },
      "execution_count": 25,
      "outputs": []
    },
    {
      "cell_type": "code",
      "source": [
        "stats.ttest_ind(group_a_short_scores, group_b_scores, alternative='greater', equal_var=False)"
      ],
      "metadata": {
        "colab": {
          "base_uri": "https://localhost:8080/"
        },
        "id": "9qeA9Bd3tSVm",
        "outputId": "ae7b54dc-03a9-4903-fecc-1c1511cbbb86"
      },
      "execution_count": 30,
      "outputs": [
        {
          "output_type": "execute_result",
          "data": {
            "text/plain": [
              "TtestResult(statistic=np.float64(1.1226527301193456), pvalue=np.float64(0.1505368495172156), df=np.float64(6.544857383782639))"
            ]
          },
          "metadata": {},
          "execution_count": 30
        }
      ]
    },
    {
      "cell_type": "markdown",
      "source": [
        "**Висновок:**\n",
        "Оскільки p-value > 0.05 не можна відкинути нульову гіпотезу, що свідчить про відсутність статистично значущих покращень результатів по новій програмі. Тобто не можемо стверджувати що новий курс є ефективнішим"
      ],
      "metadata": {
        "id": "f9ca3Y2HynGj"
      }
    },
    {
      "cell_type": "markdown",
      "source": [
        "\n",
        "### Завдання 3\\*: Z-тест для двох **пов'язаних** вибірок\n",
        "\n",
        "**Мета**: Перевірити, чи вплинув тренінг на продуктивність працівників, коли всі співробітники проходили тренінг.\n",
        "\n",
        "**Припущення**: Наші працівники проходять однаковий тренінг, і ми хочемо з'ясувати, чи покращилися їхні показники після тренінгу на рівні значущості 0.05. Виконайте Z-тест з Python, виведіть p-value і зробіть заключення, чи поліпшились показники працівників на рівні значущості 0.05?\n",
        "\n",
        "Зверніть увагу, ці вибірки повʼязані між собою, значить не буде коректно виконати z-test між ними, натомість, ми можемо порівняти, чи різниця в результатах (продуктивності співробітників) є стат значущою."
      ],
      "metadata": {
        "id": "3TcRHLLz0SLw"
      }
    },
    {
      "cell_type": "code",
      "source": [
        "before_training = np.array([57.82, 37.63, 36.8 , 55.22, 52.97, 52.5 , 53.46, 43.2 , 52.32,\n",
        "       52.93, 42.86, 68.66, 54.74, 38.09, 56.57, 40.25, 57.87, 61.59,\n",
        "       41.79, 59.63, 54.13, 58.22, 68.97, 47.55, 42.46, 41.1 , 41.84,\n",
        "       49.23, 53.41, 52.77])\n",
        "\n",
        "after_training = np.array([62.47, 40.66, 42.7 , 57.69, 61.41, 56.76, 54.75, 44.06, 56.29,\n",
        "       55.48, 47.28, 72.6 , 57.59, 39.39, 56.54, 42.36, 62.58, 65.01,\n",
        "       42.3 , 62.98, 57.9 , 59.45, 72.28, 50.66, 43.18, 44.82, 45.96,\n",
        "       54.4 , 58.52, 53.01])"
      ],
      "metadata": {
        "id": "uxrjagJFW1GC"
      },
      "execution_count": 32,
      "outputs": []
    },
    {
      "cell_type": "code",
      "source": [
        "difference = after_training - before_training\n",
        "difference"
      ],
      "metadata": {
        "colab": {
          "base_uri": "https://localhost:8080/"
        },
        "id": "TRdQ3yZu6rAV",
        "outputId": "e001eeab-c898-4f9f-ae4e-9b79fc3f1619"
      },
      "execution_count": 33,
      "outputs": [
        {
          "output_type": "execute_result",
          "data": {
            "text/plain": [
              "array([ 4.65,  3.03,  5.9 ,  2.47,  8.44,  4.26,  1.29,  0.86,  3.97,\n",
              "        2.55,  4.42,  3.94,  2.85,  1.3 , -0.03,  2.11,  4.71,  3.42,\n",
              "        0.51,  3.35,  3.77,  1.23,  3.31,  3.11,  0.72,  3.72,  4.12,\n",
              "        5.17,  5.11,  0.24])"
            ]
          },
          "metadata": {},
          "execution_count": 33
        }
      ]
    },
    {
      "cell_type": "code",
      "source": [
        "ztest(difference, value=0, alternative='larger')"
      ],
      "metadata": {
        "colab": {
          "base_uri": "https://localhost:8080/"
        },
        "id": "o_-8Znin6q8z",
        "outputId": "b03ac802-2843-4f71-c416-416aa6f325ea"
      },
      "execution_count": 34,
      "outputs": [
        {
          "output_type": "execute_result",
          "data": {
            "text/plain": [
              "(np.float64(9.13890009623916), np.float64(3.1545359919175505e-20))"
            ]
          },
          "metadata": {},
          "execution_count": 34
        }
      ]
    },
    {
      "cell_type": "markdown",
      "source": [
        "**Висновок:**\n",
        "Оскільки p-value значно < 0.05, ми відхиляємо нульову гіпотезу.\n",
        "Це означає, що тренінг дійсно позитивно вплинув на продуктивність працівників, і ця різниця статистично значуща."
      ],
      "metadata": {
        "id": "Ke1Ppht_8ua9"
      }
    }
  ]
}